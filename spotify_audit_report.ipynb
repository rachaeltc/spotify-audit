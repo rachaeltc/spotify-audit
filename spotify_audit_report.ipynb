{
 "cells": [
  {
   "cell_type": "markdown",
   "metadata": {},
   "source": [
    "<center> <h1> Auditing Spotify's Recommendation Algorithm for Gender Bias </h1> </center>\n",
    "<center> <h3> Rachael Cheung and Bernette Xiao | CS 4910 </h3> </center>"
   ]
  },
  {
   "cell_type": "markdown",
   "metadata": {
    "id": "6CZz3U3u8ZOc"
   },
   "source": [
    "# **Executive summary**\n",
    "\n",
    "Traditionally, men have dominated the music and entertainment industry, so we seek to explore whether men and women are represented equally through Spotify's song recommendation algorithm. We did not find any statistically significant results from our audit on Spotify’s recommendation API, with our ordinary least squares model yielding coefficient confidence intervals that contained 0 for all features. In this aspect, we were unable to determine whether the recommendation algorithm enforced gender bias in the order of the output. However, upon the inspection of the probability of the gender of the recommended artist when given the gender of the seed artist, we were found that these probabilities were all around .5. Considering limitations of our data and potential data biases, we can say with limited certainty that within the first 20 songs of the output of Spotify's recommendation algorithm, there exists no bias towards the gender of the artist. "
   ]
  },
  {
   "cell_type": "markdown",
   "metadata": {
    "id": "vzFuslI68lkl"
   },
   "source": [
    "# 1 **Introduction**\n",
    "The harm that we are examining is the harm of representation. The investigated service is Spotify, a music-streaming platform. More specifically, we would like to investigate whether Spotify’s song recommendation algorithm is providing equal representation to artists of different genders. Are female or male artists more likely to be recommended? \n",
    "\n",
    "One related work is [Artist Gender Representation in Music Streaming](https://archives.ismir.net/ismir2020/paper/000148.pdf), which takes user data to examine gender discrepancies in the artists streamed by listeners worldwide. Another related work was [Exploring Artist Gender Bias in Music](https://arxiv.org/abs/2009.01715). This work also explores the harm of gender bias, but look to determine whether or not music recommender systems act to further increase or decrease artist gender bias in a user as a result of the recommendation generation.\n",
    "\n",
    "While we are performing something similar to the related works, we are performing a novel work because we seek to explore a different aspect of music recommendation. We are looking to explore whether the music recommendation system provides equal representation to artists of different genders. "
   ]
  },
  {
   "cell_type": "markdown",
   "metadata": {
    "id": "Seet_v8389O8"
   },
   "source": [
    "# 2 **Data Description**\n",
    "\n",
    "Our dataset consists of 2000 recommended songs. For each song, we recorded the recommended song's difference in danceability, energy, loudness, speechiness, acousticness, liveness, valence, duration, and number of followers. We also record the recommended song's artist, the popularity, the seed song artist, the gender of both artists, whether the seed artist and recommended artist are of the same gender, whether the artists are the same, and the order in which the songs were recommended. \n",
    "\n",
    "We first manually chose a diverse set of 100 songs from the curated Spotify playlists. These songs ranged from classical music to Spanish music to pop music, and everything in between. Then, using the Spotify API's path for recommendations, we retrieved 20 recommendations for each of the songs. We then manually annotated the genders for the artists of each of the recommended songs, as well as the genders of the seed artists. \n",
    "\n",
    "We then computed comparison columns using the raw values. This included finding the difference between features in the recommended song and the seed song, identifying whether the artists were the same and whether the gender of the artists were the same. This produced our final dataset used for analysis."
   ]
  },
  {
   "cell_type": "markdown",
   "metadata": {
    "id": "zNOiEu3w9gFH"
   },
   "source": [
    "# 3 **Ethical considerations**\n",
    "\n",
    "There are no bad ethical implications for how we performed this work. We used the Spotify API, which is a publicly available service. Although some applications use the Spotify API to garner data specific to a user, we did not do this because we just used the API to access Spotify’s recommendation algorithm. Therefore, we did not infringe on any user’s data and their privacy."
   ]
  },
  {
   "cell_type": "markdown",
   "metadata": {
    "id": "b-6Fvw4Q9hUQ"
   },
   "source": [
    "# 4 **Method** \n",
    "\n",
    "## 4.1 Data Selection \n",
    "We decided this data was best suited to investigate the harm of interest because the Spotify recommendation algorithm was convenient and had reliable documentation to use to gather the data. After performing one-hot encoding, the quantitative data also allowed for us to fit the data to a linear regression (Ordinary Least Squares) model, which we use to investigate for representation harm in predicting the order in which songs were recommended and determining which features were statistically significant in the process of the prediction (as determined by the model).\n",
    "\n",
    "## 4.2 Limitations of Data\n",
    "The limitation of the data is in the quantity. Considering that we had to manually go through the recommendations to annotate the artist genders, we had decided to settle on 20 recommendations per song, and 100 seed songs, which we thought would be a manageable number to go through. In addition, because of this manual annotation, there is room for human error in the annotation of the gender. Moreover, Spotify's recommendation algorithm generates different results each time it is called. As a result, the data retrieved from one call may provide skewed results that another call may not have. Given more manpower and time, this can be accounted for by attempting multiple calls to the recommendation algorithm for a larger quantity of recommendations. \n",
    "\n",
    "## 4.3 Data Preprocessing\n",
    "Some preprocessing we did was to get the deltas of some of the features between the recommended songs and the seed songs. We also had to process the genres so we could see if the recommended song and the seed song shared genres or not, as well as determining whether or not the recommended and seed artist were of the same gender. To fit the linear regression model, we also one-hot encoded the seed artist gender feature. We also manually found the artists’ genders as this information was not available on Spotify. \n",
    "\n",
    "## 4.4 Potential Noise Control\n",
    "Potential noise that may need to be accounted for include the fact that our personal account information may have factored into the recommendation algorithm, since the API call for the recommendations was done using a key generated from keys from our personal accounts. Since we had failed to consider this in the initial stages of data generation, we decided to observe the difference in the recommendations generated between two different API keys.  \n",
    "\n",
    "In order to do this, we followed the same steps in generating 20 recommendation songs for each of our 100 seed songs with a different API key, then looked for the percentage of overlap between the two sets of 2000 recommended songs. This revealed that **18.7%** of the songs were the same across the songs recommended by either key, or 374 songs were the same in the 2000. This low percentage was to be expected, however, having considered that Spotify has a large base of songs to choose from and that the results are randomly different each API call. Again, this highlights a limitation of the dataset that we use to conduct this analysis. \n",
    "\n",
    "\n",
    "## 4.5 Baseline Comparison\n",
    "The baseline we use for comparison is the expectation that the artist's gender is not a factor that is considered when determining a song's likeliness of appearing higher in a recommendation ranking. Another baseline expectation we have is that there is an relatively equal likelihood of a recommended artist being female or male. \n",
    "\n",
    "\n",
    "## 4.6 Type of Analysis\n",
    "To conduct this audit, we decided to fit a Linear Regression model to our data to examine the importance of each feature in the prediction of a song's ranking in the recommendation output. This is the best choice for this problem, because it allows us to examine whether each feature is significant in determining the order of the recommendations given. This allows for us to investigate whether or not Spotify's song recommendation algorithm is biased in terms of whether an artist's gender can affect the order of its ranking among the recommended songs. "
   ]
  },
  {
   "cell_type": "markdown",
   "metadata": {
    "id": "ryeC_Mts9sxM"
   },
   "source": [
    "# 5 **Results** "
   ]
  },
  {
   "cell_type": "markdown",
   "metadata": {},
   "source": [
    "First, we install all the needed packages for data generation and the analysis portion of the audit:"
   ]
  },
  {
   "cell_type": "code",
   "execution_count": null,
   "metadata": {
    "id": "uyRsak0PXQmE"
   },
   "outputs": [],
   "source": [
    "!pip install pandas\n",
    "!pip install scikit-learn\n",
    "!pip install statsmodels\n",
    "!pip install matplotlib\n",
    "!pip install wget"
   ]
  },
  {
   "cell_type": "markdown",
   "metadata": {
    "id": "fVVpjDfZmN5J"
   },
   "source": [
    "## Code for Dataset Generation:"
   ]
  },
  {
   "cell_type": "code",
   "execution_count": null,
   "metadata": {
    "id": "AfBvNS25ZG8R"
   },
   "outputs": [],
   "source": [
    "import requests\n",
    "import pandas as pd"
   ]
  },
  {
   "cell_type": "markdown",
   "metadata": {},
   "source": [
    "Helper methods used in retrieving data from the Spotify API and formatting it into a Pandas dataframe:"
   ]
  },
  {
   "cell_type": "code",
   "execution_count": null,
   "metadata": {
    "id": "D2v4G-NHeV0D"
   },
   "outputs": [],
   "source": [
    "# given a path for the Spotify API, this returns the resulting response in a json format\n",
    "def spotify_api(endpoint):\n",
    "    access_token = 'BQCnoyYiPJYyfNn_DQJa_eB6KrhKmuyhp3jYzsdSwRQWO77hZSoeinq1pov25CjlDNHZicaWs10zFTofneUeWcaEiPcy4ofHKVJWNxydV5Ia4L0Zil9pW3tRQa715rDghLz6kKr8gwSkJI-c5zs'\n",
    "    headers = {\n",
    "        'Authorization': f'Bearer {access_token}'\n",
    "    }\n",
    "    BASE_URL = 'https://api.spotify.com/v1/'\n",
    "    response = requests.get(f'{BASE_URL}{endpoint}', headers=headers)\n",
    "    return response.json()"
   ]
  },
  {
   "cell_type": "code",
   "execution_count": null,
   "metadata": {
    "id": "fDKGTkL7e3mV"
   },
   "outputs": [],
   "source": [
    "# returns a dictionary containing aritst info for given artist id\n",
    "def get_artist_info(artist_id):\n",
    "    resp = spotify_api(f\"artists/{artist_id}\")\n",
    "    info = {}\n",
    "    info[\"artistid\"] = artist_id\n",
    "    info[\"artist\"] = resp[\"name\"]\n",
    "    info[\"followers\"] = resp[\"followers\"][\"total\"]\n",
    "    info[\"popularity\"] = resp[\"popularity\"]\n",
    "    info[\"genres\"] = resp[\"genres\"]\n",
    "    return info\n",
    "\n",
    "# retursn a dictionary containing song info for given song ID\n",
    "def get_song_info(songID):\n",
    "    response = spotify_api(f\"audio-features?ids={songID}\")['audio_featues'][0]\n",
    "    info = dict()\n",
    "    info['danceability'] = response['danceability']\n",
    "    info['energy'] = response['energy']\n",
    "    info['loudness'] = response['loudness']\n",
    "    info['speechiness'] = response['speechiness']\n",
    "    info['acousticness'] = response['acousticness']\n",
    "    info['liveness'] = response['liveness']\n",
    "    info['valence'] = response['valence']\n",
    "    info['duration'] = response['duration_ms']/1000\n",
    "    return info\n",
    "\n",
    "# returns dictionary containing song and artist info for given song\n",
    "def get_seed_info(songID):\n",
    "    response = spotify_api(f\"tracks/{songID}\")\n",
    "    artistID = response[\"artists\"][0]['id']\n",
    "    artistInfo = get_artist_info(artistID)\n",
    "    songInfo = get_song_info(songID)\n",
    "    songInfo.update(artistInfo)\n",
    "    return songInfo\n",
    "\n",
    "# returns a list of dictionaries containing information for songs recommended given the seed songID\n",
    "def get_recommendedfeatures(songID):\n",
    "    response = spotify_api(f\"recommendations?seed_tracks={songID}\")  \n",
    "    recommended = []\n",
    "\n",
    "    for i in range(0, len(response[\"tracks\"])):\n",
    "        # recommended song artist\n",
    "        artist = response[\"tracks\"][i]['artists'][0][\"id\"]\n",
    "        artistinfo = get_artist_info(artist)\n",
    "\n",
    "        # recommended song id\n",
    "        song = response[\"tracks\"][i]['id']\n",
    "        songinfo = get_song_info(song)\n",
    "        songinfo['rank'] = i\n",
    "\n",
    "        songinfo.update(artistinfo)\n",
    "        recommended.append(songinfo)\n",
    "\n",
    "    return recommended"
   ]
  },
  {
   "cell_type": "markdown",
   "metadata": {},
   "source": [
    "Helper methods used in computing the comparison values between features of the recommended song and features of the seed song:"
   ]
  },
  {
   "cell_type": "code",
   "execution_count": 14,
   "metadata": {
    "id": "lLd6hCT_WWZv"
   },
   "outputs": [],
   "source": [
    "# returns 1 if the given artists are the same, 0 otherwise\n",
    "def sameArtist(artist1, artist2):\n",
    "    if artist1 == artist2:\n",
    "        return 1\n",
    "    else:\n",
    "        return 0\n",
    "\n",
    "# returns 1 if there is at least 1 overlap in the two given lists of genres, 0 otherwise\n",
    "def similarGenre(seed_genres, track_genres):\n",
    "    if any(item in seed_genres for item in track_genres):\n",
    "        return 1\n",
    "    else:\n",
    "        return 0"
   ]
  },
  {
   "cell_type": "code",
   "execution_count": null,
   "metadata": {
    "id": "wD733O1GWXLx"
   },
   "outputs": [],
   "source": [
    "# returns a list of dictionaries containing comparison vals for recommended songs and seed song\n",
    "def make_comparison(recdf, seedinfo):\n",
    "    comparisonvals = []\n",
    "\n",
    "    for index, row in recdf.iterrows():\n",
    "        comps = {}\n",
    "        comps['danceability_delta'] = row['danceability'] - seedinfo['danceability']\n",
    "        comps['energy_delta'] = row['energy'] - seedinfo['energy']\n",
    "        comps['loudness_delta'] = row['loudness'] - seedinfo['loudness']\n",
    "        comps['speechiness_delta'] = row['speechiness'] - seedinfo['speechiness']\n",
    "        comps['acoutsicness_delta'] = row['acousticness'] - seedinfo['acousticness']\n",
    "        comps['liveness_delta'] = row['liveness'] - seedinfo['liveness']\n",
    "        comps['valence_delta'] = row['valence'] - seedinfo['valence']\n",
    "        comps['duration_delta'] = row['duration'] - seedinfo['duration']\n",
    "        comps['same_artist'] = sameArtist(row['artistid'], seedinfo['artistid'])\n",
    "        comps['followers_delta'] = row['followers'] - seedinfo['followers']\n",
    "        comps['popularity'] = row['popularity'] # popularity is left as a value from 1-100 describing the artist's popularity\n",
    "        comps['similar_genres'] = similarGenre(row['genres'], seedinfo['genres'])\n",
    "\n",
    "        comparisonvals.append(comps)\n",
    "      \n",
    "    return comparisonvals"
   ]
  },
  {
   "cell_type": "code",
   "execution_count": null,
   "metadata": {
    "id": "_hVMYQLcv2g2"
   },
   "outputs": [],
   "source": [
    "# list of corresponding songIDs for the manually compiled 100 seed songs to be used for generating recommendations\n",
    "seeds = ['4LRPiXqCikLlN15c3yImP7', '3USxtqRwSYz57Ewm6wWRMp', '5HCyWlXZPP0y6Gqq8TgA20', '1r9xUipOqoNwggBpENDsvJ', '3IAfUEeaXRX9s9UdKOJrFI', '6zSpb8dQRaw0M1dK8PBwQz', '27NovPIUIRrOZoCHxABJwK', '4fouWK6XVHhzl78KzQ1UjL', '2gpQi3hbcUAcEG8m2dlgfB', '5dPz35akJjPqb17yeqNwqH', '52xJxFP6TqMuO4Yt0eOkMz', '4A8cWXxKfIL3lAyUDzXbCF', '6HJIZUOiZDE814XMhRGSZN', '4ZtFanR9U6ndgddUvNcjcG', '2BcMwX1MPV6ZHP4tUT9uq6', '6Uj1ctrBOjOas8xZXGqKk4', '68Dni7IE4VyPkTOH9mRWHr', '1nFtiJxYdhtFfFtfXBv06s', '3XOalgusokruzA5ZBA2Qcb', '1nFtiJxYdhtFfFtfXBv06s', '1Al4Z4K76RCKj31mExavs7', '1fff5nZGyRJtFLkOrSSwOU', '3HGnIIdHYIbkowzLk8UHbE', '19ZzEzb4BVK1wVO4brrmZz', '2vubFQgAJO5SeuVa7ytIHc', '6VVqPBFZIbcmv14zNfOc13', '6iai8D40xiwuktWrxcInt1', '6QFCgioM2ZDxCEadWUes2b', '13rC4iKtfQocWIfzPOJxaT', '6F7UOC6fPWOkPqybOWBHSv', '63QC7HvgJXgH8udcfPqW7q', '6eN1f9KNmiWEhpE2RhQqB5', '291RmMazWAmDitFuD6NJCv', '2zYzyRzz6pRmhPzyfMEC8s', '39shmbIHICJ2Wxnk1fPSdz', '2Cdvbe2G4hZsnhNMKyGrie', '39shmbIHICJ2Wxnk1fPSdz', '4Bv3Cg9FqLcencnvDvVjLk', '70LcF31zb1H0PyJoS1Sx1r', '23ILMGaQXEuSQkflOcEJTz', '37ZJ0p5Jm13JPevGcx4SkF', '4bHsxqR3GMrXTxEPLuK5ue', '1ri9ZUkBJVFUdgwzCnfcYs', '1O2pcBJGej0pmH2Y9XZMs6', '6ZOcbKub95XSDESsKKuH41', '5Y9fnynLlIvqtM710MHzfz', '1UdzJEpgJxtuXAlCOvD4S0', '1xqbfjRuUw0ot43wgBuVkt', '2gpQi3hbcUAcEG8m2dlgfB', '6lX6l7OuA3qrnIRfdsr0dw', '3XjN0mvFkQp1FMVM9Ro5hm', '0HINQFSerZ6iMfSsaTO3G5', '0f2489MzoisF9pKduawvce', '1cpANF6zMBoFoxkoIjZHjv', '4smkJW6uzoHxGReZqqwHS5', '4Y5fyQ5fBysC32Na5sZT3J', '6yKkA8HzwWTZ5taIMaG4Nm', '5zN39dURo582NUVia11i6a', '5eFFsShr8vchESCk8HGxvn', '0CKmXUQhqsYhRSId0pAQVp', '3C5CcBXFEldHfgwDe62zWI', '6qNbi16H71o7SloWlei4f3', '7nHruG1y3zBupJG6F6UQtB', '5aXTfpNOqLj35ydEiLio67', '1D2ZNECRd7KIlA4pyOUGsv', '6KRi6CBUitENJB4HQbSVSD', '2N2lDDaucbMUw1I1GxBrbc', '08Ecw0ItPxGeHS9Mexr8cs', '2cAYjs1WvosMFadzTDmmzD', '0j2Tw0MkOFKzXpwJLzW3vD', '4s3CHmungRHAI5ho2edqXb', '0KG7XrgM20KEmJrKsyFDAm', '1JQ6Xm1JrvHfvAqhl5pwaA', '7kpa6MWRrPaF3b6C0DgioK', '3H5ly2nTpUNUdbg1X9dHWJ', '0SVV6XGfiIGM7tOqKnXg4t', '6Srgw41KlTpWtu5hbEKeja', '52gqeRlrBE7hqMlRxEsi6y', '1oERlssLrpssCAY6Yqqs6c', '2nGFzvICaeEWjIrBrL2RAx', '6Zu3aw7FfjAF9WA0fA81Oq', '3vySEUpD0tc801F2WZDLYw', '0QFGZqqB1KDpOtyL3vXMXo', '5f0YEgUKxFekMSXXxQkKAH', '5yTpyXVKcB20zOGXU1ffgf', '17KsfpInZ0UWg5LxUgH4rd', '6rBkSRxinFvMtOYYbKegma', '0Q5VnK2DYzRyfqQRJuUtvi', '3TSLqZssCoCdDlMhCJ08XW', '5b1PngLlxc7hj3fJXrE2Zm', '63irPUP3xB74fHdw1Aw9zR', '2oBMZYteeO8DyXV9gDx6Za', '61dYvvfIRtIDFuqZypPAta', '5nVK0rgBaHqRioBoWBWS8f', '0H2VhGUC3P3hvwz8rdGIpC', '2a1BbbIpOE0YBxLgejQNDU', '2rQVexxmI985m2iefLfhbm', '5EIKp1TKhUNdsThloWPa53', '2yAfzkn1JFekLsqVDDualq', '7lvDsmTRXFE3dK4OjvRiWB', '2xRtXbFAmk3cW6xE1zF7ye', '7k6QR9YHyW258yVN6FHO1T']"
   ]
  },
  {
   "cell_type": "markdown",
   "metadata": {},
   "source": [
    "Here, we go through the list of 100 seed songs and retrieve 20 recommendations for each song, computing the comparison values to the seed song and populate the `dataset` dataframe with the computed data:"
   ]
  },
  {
   "cell_type": "code",
   "execution_count": null,
   "metadata": {
    "id": "bLGEwLfp5EfH"
   },
   "outputs": [],
   "source": [
    "addedseeds = [] # helps keep track of how many seeds we have goen through so far\n",
    "dataset = pd.DataFrame()\n",
    "for songID in seeds[99:]:\n",
    "    recommended = get_recommendedfeatures(songID)\n",
    "    recommended_features = pd.DataFrame(recommended)\n",
    "    comparisonvals = make_comparison(recommended_features, get_seed_info(songID))\n",
    "    comp_features = pd.DataFrame(comparisonvals)\n",
    "    dataset = pd.concat([dataset, comp_features], ignore_index=True)\n",
    "    addedseeds.append(songID)"
   ]
  },
  {
   "cell_type": "code",
   "execution_count": null,
   "metadata": {
    "id": "ztpN6l-m5FbJ"
   },
   "outputs": [],
   "source": [
    "dataset.to_csv('spotify_data_wo_gender.csv', index = False)"
   ]
  },
  {
   "cell_type": "markdown",
   "metadata": {
    "id": "JATXG8gaAH4K"
   },
   "source": [
    "At this point, in the dataset, we have all the comparison values and a column with the recommended song's artist. We then manually went through all 1000 recommended songs and annotated them with their respective gender: \"M\" for male-voice dominated songs, \"F\" for female-voice dominated songs, \"C\" for group songs or songs without a clear voice (instrumentals and classical music). "
   ]
  },
  {
   "cell_type": "code",
   "execution_count": null,
   "metadata": {
    "id": "yrDqu_UnZ-n6"
   },
   "outputs": [],
   "source": [
    "# import dataset that now has the column with the recommended artists' genders\n",
    "df = pd.read_csv('spotify_data_with_gender.csv')"
   ]
  },
  {
   "cell_type": "code",
   "execution_count": null,
   "metadata": {
    "id": "B02oAmg6BCmF"
   },
   "outputs": [],
   "source": [
    "# adding a column to the dataset with the seed artist\n",
    "original_artists = []\n",
    "for seed in seeds:\n",
    "    response = spotify_api(f\"tracks/{seed}\")\n",
    "    artistID = response[\"artists\"][0]['id']\n",
    "    artistInfo = get_artist_info(artistID)\n",
    "    for i in range(0, 20):\n",
    "        original_artists.append(artistInfo['artist'])\n",
    "        \n",
    "df = pd.read_csv('spotify_data2.csv')\n",
    "df[\"seed_artist\"] = original_artists\n",
    "\n",
    "dataset.to_csv('spotify_data_wo_seedgender.csv', index = False)"
   ]
  },
  {
   "cell_type": "markdown",
   "metadata": {
    "id": "Cnv_SwDwBRrV"
   },
   "source": [
    "Here, we export the data again to manually annotate the seed artist's gender. We had to return to redo this step in order to generate a new column, called \"same_gender,\" which is 0 if the artist of the recommended song is of a different gender than the artist of the seed song, and 1 if the genders are the same."
   ]
  },
  {
   "cell_type": "code",
   "execution_count": null,
   "metadata": {
    "id": "BpU7x5WEBlL2"
   },
   "outputs": [],
   "source": [
    "# import dataset that now has the column with the recommended artists' genders and seed artist genders\n",
    "df = pd.read_csv('spotify_data_with_seedgender.csv')"
   ]
  },
  {
   "cell_type": "code",
   "execution_count": null,
   "metadata": {
    "id": "dY8eqwRfEaOo"
   },
   "outputs": [],
   "source": [
    "# generate column determining whether recommended artist and seed artist have same gender\n",
    "same_gender = []\n",
    "for index, row in df.iterrows():\n",
    "    if row['artist_gender'] == row['seed_artist_gender']:\n",
    "        same_gender.append(1)\n",
    "    else:\n",
    "        same_gender.append(0)\n",
    "\n",
    "# add column to dataframe\n",
    "df['same_gender'] = same_gender"
   ]
  },
  {
   "cell_type": "code",
   "execution_count": null,
   "metadata": {
    "id": "wAkeR3d7ZynN"
   },
   "outputs": [],
   "source": [
    "# one hot encoding recommended artist gender variable\n",
    "artist_male = []\n",
    "artist_female = []\n",
    "for index, row in df.iterrows():\n",
    "    gen = row['artist_gender']\n",
    "    if gen == 'M':\n",
    "        artist_male.append(1)\n",
    "        artist_female.append(0)\n",
    "    elif gen == 'F':\n",
    "        artist_male.append(0)\n",
    "        artist_female.append(1)\n",
    "    else:\n",
    "        artist_male.append(0)\n",
    "        artist_female.append(0)\n",
    "\n",
    "df['artist_male'] = artist_male\n",
    "df['artist_female'] = artist_female"
   ]
  },
  {
   "cell_type": "code",
   "execution_count": null,
   "metadata": {
    "id": "hpeLVtiNmmMD"
   },
   "outputs": [],
   "source": [
    "# finding absolute value of all delta values \n",
    "df['danceability_delta'] = df['danceability_delta'].abs()\n",
    "df['energy_delta'] = df['energy_delta'].abs()\n",
    "df['loudness_delta'] = df['loudness_delta'].abs()\n",
    "df['acoutsicness_delta'] = df['acoutsicness_delta'].abs()\n",
    "df['speechiness_delta'] = df['speechiness_delta'].abs()\n",
    "df['liveness_delta'] = df['liveness_delta'].abs()\n",
    "df['valence_delta'] = df['valence_delta'].abs()\n",
    "df['followers_delta'] = df['followers_delta'].abs()"
   ]
  },
  {
   "cell_type": "code",
   "execution_count": null,
   "metadata": {
    "id": "ws6xBnipaEEO"
   },
   "outputs": [],
   "source": [
    "dataset.to_csv('spotify_data.csv', index = False)"
   ]
  },
  {
   "cell_type": "markdown",
   "metadata": {
    "id": "Pg1CiGsRH8IM"
   },
   "source": [
    "## Code for Analysis:\n",
    "\n",
    "Here, we start the analysis by importing our dataset generated above:"
   ]
  },
  {
   "cell_type": "code",
   "execution_count": 1,
   "metadata": {
    "id": "m6pwDvNDH-0i"
   },
   "outputs": [],
   "source": [
    "import pandas as pd\n",
    "import statsmodels.api as sm\n",
    "from sklearn.model_selection import train_test_split\n",
    "from sklearn.linear_model import LinearRegression\n",
    "import matplotlib.pyplot as plt\n",
    "import numpy as np\n",
    "import wget"
   ]
  },
  {
   "cell_type": "code",
   "execution_count": 20,
   "metadata": {},
   "outputs": [
    {
     "name": "stdout",
     "output_type": "stream",
     "text": [
      "\r",
      "  0% [                                                                            ]      0 / 207234\r",
      "  3% [...                                                                         ]   8192 / 207234\r",
      "  7% [......                                                                      ]  16384 / 207234\r",
      " 11% [.........                                                                   ]  24576 / 207234\r",
      " 15% [............                                                                ]  32768 / 207234\r",
      " 19% [...............                                                             ]  40960 / 207234\r",
      " 23% [..................                                                          ]  49152 / 207234\r",
      " 27% [.....................                                                       ]  57344 / 207234\r",
      " 31% [........................                                                    ]  65536 / 207234\r",
      " 35% [...........................                                                 ]  73728 / 207234\r",
      " 39% [..............................                                              ]  81920 / 207234\r",
      " 43% [.................................                                           ]  90112 / 207234\r",
      " 47% [....................................                                        ]  98304 / 207234\r",
      " 51% [.......................................                                     ] 106496 / 207234\r",
      " 55% [..........................................                                  ] 114688 / 207234\r",
      " 59% [.............................................                               ] 122880 / 207234\r",
      " 63% [................................................                            ] 131072 / 207234\r",
      " 67% [...................................................                         ] 139264 / 207234\r",
      " 71% [......................................................                      ] 147456 / 207234\r",
      " 75% [.........................................................                   ] 155648 / 207234\r",
      " 79% [............................................................                ] 163840 / 207234\r",
      " 83% [...............................................................             ] 172032 / 207234\r",
      " 86% [..................................................................          ] 180224 / 207234\r",
      " 90% [.....................................................................       ] 188416 / 207234\r",
      " 94% [........................................................................    ] 196608 / 207234\r",
      " 98% [........................................................................... ] 204800 / 207234\r",
      "100% [............................................................................] 207234 / 207234"
     ]
    },
    {
     "data": {
      "text/plain": [
       "'spotify_data.csv'"
      ]
     },
     "execution_count": 20,
     "metadata": {},
     "output_type": "execute_result"
    }
   ],
   "source": [
    "# to download dataset:\n",
    "wget.download('https://drive.google.com/uc?export=download&id=1czyUOpwCPOeL9TLbl8AznHaJbgZHm6lk')"
   ]
  },
  {
   "cell_type": "code",
   "execution_count": 2,
   "metadata": {
    "colab": {
     "base_uri": "https://localhost:8080/",
     "height": 224
    },
    "id": "bVlIW_kfIBIa",
    "outputId": "6ea0ebc8-beb7-46c1-831d-ee2944678a5f"
   },
   "outputs": [
    {
     "data": {
      "text/html": [
       "<div>\n",
       "<style scoped>\n",
       "    .dataframe tbody tr th:only-of-type {\n",
       "        vertical-align: middle;\n",
       "    }\n",
       "\n",
       "    .dataframe tbody tr th {\n",
       "        vertical-align: top;\n",
       "    }\n",
       "\n",
       "    .dataframe thead th {\n",
       "        text-align: right;\n",
       "    }\n",
       "</style>\n",
       "<table border=\"1\" class=\"dataframe\">\n",
       "  <thead>\n",
       "    <tr style=\"text-align: right;\">\n",
       "      <th></th>\n",
       "      <th>danceability_delta</th>\n",
       "      <th>energy_delta</th>\n",
       "      <th>loudness_delta</th>\n",
       "      <th>speechiness_delta</th>\n",
       "      <th>acoutsicness_delta</th>\n",
       "      <th>liveness_delta</th>\n",
       "      <th>valence_delta</th>\n",
       "      <th>duration_delta</th>\n",
       "      <th>followers_delta</th>\n",
       "      <th>popularity</th>\n",
       "      <th>similar_genres</th>\n",
       "      <th>same_artist</th>\n",
       "      <th>artist</th>\n",
       "      <th>artist_gender</th>\n",
       "      <th>seed_artist</th>\n",
       "      <th>seed_artist_gender</th>\n",
       "      <th>same_gender</th>\n",
       "      <th>rec_rank</th>\n",
       "      <th>artist_male</th>\n",
       "      <th>artist_female</th>\n",
       "    </tr>\n",
       "  </thead>\n",
       "  <tbody>\n",
       "    <tr>\n",
       "      <th>0</th>\n",
       "      <td>0.067</td>\n",
       "      <td>0.193</td>\n",
       "      <td>2.874</td>\n",
       "      <td>0.0081</td>\n",
       "      <td>0.1070</td>\n",
       "      <td>0.1210</td>\n",
       "      <td>0.146</td>\n",
       "      <td>37.230</td>\n",
       "      <td>17768454</td>\n",
       "      <td>78</td>\n",
       "      <td>1</td>\n",
       "      <td>0</td>\n",
       "      <td>BROCKHAMPTON</td>\n",
       "      <td>C</td>\n",
       "      <td>Harry Styles</td>\n",
       "      <td>M</td>\n",
       "      <td>0</td>\n",
       "      <td>1</td>\n",
       "      <td>0</td>\n",
       "      <td>0</td>\n",
       "    </tr>\n",
       "    <tr>\n",
       "      <th>1</th>\n",
       "      <td>0.191</td>\n",
       "      <td>0.287</td>\n",
       "      <td>4.635</td>\n",
       "      <td>0.0140</td>\n",
       "      <td>0.2842</td>\n",
       "      <td>0.1980</td>\n",
       "      <td>0.437</td>\n",
       "      <td>114.903</td>\n",
       "      <td>19511178</td>\n",
       "      <td>74</td>\n",
       "      <td>0</td>\n",
       "      <td>0</td>\n",
       "      <td>The Backseat Lovers</td>\n",
       "      <td>F</td>\n",
       "      <td>Harry Styles</td>\n",
       "      <td>M</td>\n",
       "      <td>0</td>\n",
       "      <td>2</td>\n",
       "      <td>0</td>\n",
       "      <td>1</td>\n",
       "    </tr>\n",
       "    <tr>\n",
       "      <th>2</th>\n",
       "      <td>0.095</td>\n",
       "      <td>0.197</td>\n",
       "      <td>1.381</td>\n",
       "      <td>0.0171</td>\n",
       "      <td>0.2360</td>\n",
       "      <td>0.2503</td>\n",
       "      <td>0.469</td>\n",
       "      <td>69.110</td>\n",
       "      <td>31556579</td>\n",
       "      <td>100</td>\n",
       "      <td>1</td>\n",
       "      <td>0</td>\n",
       "      <td>Taylor Swift</td>\n",
       "      <td>F</td>\n",
       "      <td>Harry Styles</td>\n",
       "      <td>M</td>\n",
       "      <td>0</td>\n",
       "      <td>3</td>\n",
       "      <td>0</td>\n",
       "      <td>1</td>\n",
       "    </tr>\n",
       "  </tbody>\n",
       "</table>\n",
       "</div>"
      ],
      "text/plain": [
       "   danceability_delta  energy_delta  loudness_delta  speechiness_delta  \\\n",
       "0               0.067         0.193           2.874             0.0081   \n",
       "1               0.191         0.287           4.635             0.0140   \n",
       "2               0.095         0.197           1.381             0.0171   \n",
       "\n",
       "   acoutsicness_delta  liveness_delta  valence_delta  duration_delta  \\\n",
       "0              0.1070          0.1210          0.146          37.230   \n",
       "1              0.2842          0.1980          0.437         114.903   \n",
       "2              0.2360          0.2503          0.469          69.110   \n",
       "\n",
       "   followers_delta  popularity  similar_genres  same_artist  \\\n",
       "0         17768454          78               1            0   \n",
       "1         19511178          74               0            0   \n",
       "2         31556579         100               1            0   \n",
       "\n",
       "                artist artist_gender   seed_artist seed_artist_gender  \\\n",
       "0         BROCKHAMPTON             C  Harry Styles                  M   \n",
       "1  The Backseat Lovers             F  Harry Styles                  M   \n",
       "2         Taylor Swift             F  Harry Styles                  M   \n",
       "\n",
       "   same_gender  rec_rank  artist_male  artist_female  \n",
       "0            0         1            0              0  \n",
       "1            0         2            0              1  \n",
       "2            0         3            0              1  "
      ]
     },
     "execution_count": 2,
     "metadata": {},
     "output_type": "execute_result"
    }
   ],
   "source": [
    "# dataset hosted by Google Drive, read data into dataframe\n",
    "path = 'https://drive.google.com/uc?export=download&id=1czyUOpwCPOeL9TLbl8AznHaJbgZHm6lk'\n",
    "data = pd.read_csv(path)\n",
    "data.head(3)"
   ]
  },
  {
   "cell_type": "code",
   "execution_count": 3,
   "metadata": {
    "id": "MMDt8Wj8IC80"
   },
   "outputs": [],
   "source": [
    "columns = ['danceability_delta', 'energy_delta', 'loudness_delta',\n",
    "        'speechiness_delta', 'acoutsicness_delta', 'liveness_delta', 'valence_delta', 'duration_delta', \n",
    "        'followers_delta', 'popularity', 'similar_genres', 'same_artist', 'same_gender', 'artist_male', \n",
    "           'artist_female', 'rec_rank']\n",
    "# only select columns needed for analysis\n",
    "dataset = data[columns]"
   ]
  },
  {
   "cell_type": "code",
   "execution_count": 17,
   "metadata": {
    "colab": {
     "base_uri": "https://localhost:8080/"
    },
    "id": "sByE09QqIKM5",
    "outputId": "039e7061-2aca-463b-e774-e6d8db0ed9a6"
   },
   "outputs": [
    {
     "data": {
      "text/html": [
       "<table class=\"simpletable\">\n",
       "<caption>OLS Regression Results</caption>\n",
       "<tr>\n",
       "  <th>Dep. Variable:</th>        <td>rec_rank</td>     <th>  R-squared:         </th> <td>   0.012</td> \n",
       "</tr>\n",
       "<tr>\n",
       "  <th>Model:</th>                   <td>OLS</td>       <th>  Adj. R-squared:    </th> <td>   0.002</td> \n",
       "</tr>\n",
       "<tr>\n",
       "  <th>Method:</th>             <td>Least Squares</td>  <th>  F-statistic:       </th> <td>   1.247</td> \n",
       "</tr>\n",
       "<tr>\n",
       "  <th>Date:</th>             <td>Tue, 26 Apr 2022</td> <th>  Prob (F-statistic):</th>  <td> 0.229</td>  \n",
       "</tr>\n",
       "<tr>\n",
       "  <th>Time:</th>                 <td>22:51:53</td>     <th>  Log-Likelihood:    </th> <td> -5064.2</td> \n",
       "</tr>\n",
       "<tr>\n",
       "  <th>No. Observations:</th>      <td>  1600</td>      <th>  AIC:               </th> <td>1.016e+04</td>\n",
       "</tr>\n",
       "<tr>\n",
       "  <th>Df Residuals:</th>          <td>  1584</td>      <th>  BIC:               </th> <td>1.025e+04</td>\n",
       "</tr>\n",
       "<tr>\n",
       "  <th>Df Model:</th>              <td>    15</td>      <th>                     </th>     <td> </td>    \n",
       "</tr>\n",
       "<tr>\n",
       "  <th>Covariance Type:</th>      <td>nonrobust</td>    <th>                     </th>     <td> </td>    \n",
       "</tr>\n",
       "</table>\n",
       "<table class=\"simpletable\">\n",
       "<tr>\n",
       "           <td></td>             <th>coef</th>     <th>std err</th>      <th>t</th>      <th>P>|t|</th>  <th>[0.025</th>    <th>0.975]</th>  \n",
       "</tr>\n",
       "<tr>\n",
       "  <th>const</th>              <td>   11.0849</td> <td>    0.779</td> <td>   14.230</td> <td> 0.000</td> <td>    9.557</td> <td>   12.613</td>\n",
       "</tr>\n",
       "<tr>\n",
       "  <th>danceability_delta</th> <td>    1.4364</td> <td>    1.469</td> <td>    0.978</td> <td> 0.328</td> <td>   -1.445</td> <td>    4.317</td>\n",
       "</tr>\n",
       "<tr>\n",
       "  <th>energy_delta</th>       <td>    0.6155</td> <td>    1.281</td> <td>    0.480</td> <td> 0.631</td> <td>   -1.898</td> <td>    3.129</td>\n",
       "</tr>\n",
       "<tr>\n",
       "  <th>loudness_delta</th>     <td>   -0.0873</td> <td>    0.059</td> <td>   -1.488</td> <td> 0.137</td> <td>   -0.202</td> <td>    0.028</td>\n",
       "</tr>\n",
       "<tr>\n",
       "  <th>speechiness_delta</th>  <td>    3.6223</td> <td>    2.014</td> <td>    1.799</td> <td> 0.072</td> <td>   -0.328</td> <td>    7.572</td>\n",
       "</tr>\n",
       "<tr>\n",
       "  <th>acoutsicness_delta</th> <td>    1.2943</td> <td>    0.719</td> <td>    1.799</td> <td> 0.072</td> <td>   -0.117</td> <td>    2.705</td>\n",
       "</tr>\n",
       "<tr>\n",
       "  <th>liveness_delta</th>     <td>    1.2033</td> <td>    0.969</td> <td>    1.242</td> <td> 0.214</td> <td>   -0.697</td> <td>    3.104</td>\n",
       "</tr>\n",
       "<tr>\n",
       "  <th>valence_delta</th>      <td>   -0.9528</td> <td>    0.801</td> <td>   -1.189</td> <td> 0.234</td> <td>   -2.524</td> <td>    0.618</td>\n",
       "</tr>\n",
       "<tr>\n",
       "  <th>duration_delta</th>     <td>   -0.0019</td> <td>    0.001</td> <td>   -1.782</td> <td> 0.075</td> <td>   -0.004</td> <td>    0.000</td>\n",
       "</tr>\n",
       "<tr>\n",
       "  <th>followers_delta</th>    <td>-8.441e-09</td> <td> 1.53e-08</td> <td>   -0.550</td> <td> 0.582</td> <td>-3.85e-08</td> <td> 2.16e-08</td>\n",
       "</tr>\n",
       "<tr>\n",
       "  <th>popularity</th>         <td>   -0.0146</td> <td>    0.009</td> <td>   -1.611</td> <td> 0.107</td> <td>   -0.032</td> <td>    0.003</td>\n",
       "</tr>\n",
       "<tr>\n",
       "  <th>similar_genres</th>     <td>    0.1452</td> <td>    0.325</td> <td>    0.446</td> <td> 0.655</td> <td>   -0.493</td> <td>    0.783</td>\n",
       "</tr>\n",
       "<tr>\n",
       "  <th>same_artist</th>        <td>   -0.6668</td> <td>    0.736</td> <td>   -0.906</td> <td> 0.365</td> <td>   -2.111</td> <td>    0.777</td>\n",
       "</tr>\n",
       "<tr>\n",
       "  <th>same_gender</th>        <td>   -0.1702</td> <td>    0.345</td> <td>   -0.493</td> <td> 0.622</td> <td>   -0.848</td> <td>    0.507</td>\n",
       "</tr>\n",
       "<tr>\n",
       "  <th>artist_male</th>        <td>    0.0027</td> <td>    0.409</td> <td>    0.007</td> <td> 0.995</td> <td>   -0.800</td> <td>    0.805</td>\n",
       "</tr>\n",
       "<tr>\n",
       "  <th>artist_female</th>      <td>    0.0211</td> <td>    0.366</td> <td>    0.058</td> <td> 0.954</td> <td>   -0.698</td> <td>    0.740</td>\n",
       "</tr>\n",
       "</table>\n",
       "<table class=\"simpletable\">\n",
       "<tr>\n",
       "  <th>Omnibus:</th>       <td>1087.152</td> <th>  Durbin-Watson:     </th> <td>   2.001</td>\n",
       "</tr>\n",
       "<tr>\n",
       "  <th>Prob(Omnibus):</th>  <td> 0.000</td>  <th>  Jarque-Bera (JB):  </th> <td>  93.194</td>\n",
       "</tr>\n",
       "<tr>\n",
       "  <th>Skew:</th>           <td> 0.007</td>  <th>  Prob(JB):          </th> <td>5.80e-21</td>\n",
       "</tr>\n",
       "<tr>\n",
       "  <th>Kurtosis:</th>       <td> 1.818</td>  <th>  Cond. No.          </th> <td>1.59e+08</td>\n",
       "</tr>\n",
       "</table><br/><br/>Notes:<br/>[1] Standard Errors assume that the covariance matrix of the errors is correctly specified.<br/>[2] The condition number is large, 1.59e+08. This might indicate that there are<br/>strong multicollinearity or other numerical problems."
      ],
      "text/plain": [
       "<class 'statsmodels.iolib.summary.Summary'>\n",
       "\"\"\"\n",
       "                            OLS Regression Results                            \n",
       "==============================================================================\n",
       "Dep. Variable:               rec_rank   R-squared:                       0.012\n",
       "Model:                            OLS   Adj. R-squared:                  0.002\n",
       "Method:                 Least Squares   F-statistic:                     1.247\n",
       "Date:                Tue, 26 Apr 2022   Prob (F-statistic):              0.229\n",
       "Time:                        22:51:53   Log-Likelihood:                -5064.2\n",
       "No. Observations:                1600   AIC:                         1.016e+04\n",
       "Df Residuals:                    1584   BIC:                         1.025e+04\n",
       "Df Model:                          15                                         \n",
       "Covariance Type:            nonrobust                                         \n",
       "======================================================================================\n",
       "                         coef    std err          t      P>|t|      [0.025      0.975]\n",
       "--------------------------------------------------------------------------------------\n",
       "const                 11.0849      0.779     14.230      0.000       9.557      12.613\n",
       "danceability_delta     1.4364      1.469      0.978      0.328      -1.445       4.317\n",
       "energy_delta           0.6155      1.281      0.480      0.631      -1.898       3.129\n",
       "loudness_delta        -0.0873      0.059     -1.488      0.137      -0.202       0.028\n",
       "speechiness_delta      3.6223      2.014      1.799      0.072      -0.328       7.572\n",
       "acoutsicness_delta     1.2943      0.719      1.799      0.072      -0.117       2.705\n",
       "liveness_delta         1.2033      0.969      1.242      0.214      -0.697       3.104\n",
       "valence_delta         -0.9528      0.801     -1.189      0.234      -2.524       0.618\n",
       "duration_delta        -0.0019      0.001     -1.782      0.075      -0.004       0.000\n",
       "followers_delta    -8.441e-09   1.53e-08     -0.550      0.582   -3.85e-08    2.16e-08\n",
       "popularity            -0.0146      0.009     -1.611      0.107      -0.032       0.003\n",
       "similar_genres         0.1452      0.325      0.446      0.655      -0.493       0.783\n",
       "same_artist           -0.6668      0.736     -0.906      0.365      -2.111       0.777\n",
       "same_gender           -0.1702      0.345     -0.493      0.622      -0.848       0.507\n",
       "artist_male            0.0027      0.409      0.007      0.995      -0.800       0.805\n",
       "artist_female          0.0211      0.366      0.058      0.954      -0.698       0.740\n",
       "==============================================================================\n",
       "Omnibus:                     1087.152   Durbin-Watson:                   2.001\n",
       "Prob(Omnibus):                  0.000   Jarque-Bera (JB):               93.194\n",
       "Skew:                           0.007   Prob(JB):                     5.80e-21\n",
       "Kurtosis:                       1.818   Cond. No.                     1.59e+08\n",
       "==============================================================================\n",
       "\n",
       "Notes:\n",
       "[1] Standard Errors assume that the covariance matrix of the errors is correctly specified.\n",
       "[2] The condition number is large, 1.59e+08. This might indicate that there are\n",
       "strong multicollinearity or other numerical problems.\n",
       "\"\"\""
      ]
     },
     "execution_count": 17,
     "metadata": {},
     "output_type": "execute_result"
    }
   ],
   "source": [
    "# split dataset\n",
    "train, test = train_test_split(dataset, test_size=0.2, stratify=dataset['rec_rank'])\n",
    "\n",
    "# fit training dataset to Linear Regression model\n",
    "features = ['danceability_delta', 'energy_delta', 'loudness_delta',\n",
    "        'speechiness_delta', 'acoutsicness_delta', 'liveness_delta', 'valence_delta', 'duration_delta', \n",
    "        'followers_delta', 'popularity', 'similar_genres', 'same_artist', 'same_gender', 'artist_male', \n",
    "           'artist_female']\n",
    "\n",
    "X = train[features]\n",
    "Y = train['rec_rank']\n",
    "\n",
    "# identify feature importance through model coefficients\n",
    "X = sm.add_constant(X) # adding a constant\n",
    "\n",
    "# fit data to an ordinary least squares model\n",
    "model = sm.OLS(Y, X).fit()\n",
    "predictions = model.predict(X) \n",
    "\n",
    "model.summary()"
   ]
  },
  {
   "cell_type": "markdown",
   "metadata": {},
   "source": [
    "### Calculation of the fractions for seed gender and recommended gender:"
   ]
  },
  {
   "cell_type": "code",
   "execution_count": 5,
   "metadata": {
    "id": "lhddnisHWpAC"
   },
   "outputs": [],
   "source": [
    "seedF_recF = 0 # number of recommended songs by female artist given a female seed artist\n",
    "seedF_recM = 0 # number of recommended songs by male artist given a female seed artist\n",
    "seedM_recF = 0 # number of recommended songs by female artist given a male seed artist\n",
    "seedM_recM = 0 # number of recommended songs by male artist given a male seed artist\n",
    "\n",
    "# iterate through dataframe to find the counts\n",
    "for index, row in data.iterrows():\n",
    "    if row['seed_artist_gender'] == 'F':\n",
    "        if row['artist_gender'] == 'F':\n",
    "            seedF_recF += 1\n",
    "        elif row['artist_gender'] == 'M':\n",
    "            seedF_recM += 1\n",
    "    elif row['seed_artist_gender'] == 'M':\n",
    "        if row['artist_gender'] == 'F':\n",
    "            seedM_recF += 1\n",
    "        elif row['artist_gender'] == 'M':\n",
    "            seedM_recM += 1\n",
    "\n",
    "# calculate the totals\n",
    "total_seedF = seedF_recF + seedF_recM\n",
    "total_seedM = seedM_recF + seedM_recM"
   ]
  },
  {
   "cell_type": "code",
   "execution_count": 15,
   "metadata": {
    "id": "DStTohshYv_G"
   },
   "outputs": [
    {
     "data": {
      "image/png": "[encoded data removed]",
      "text/plain": [
       "<Figure size 432x288 with 1 Axes>"
      ]
     },
     "metadata": {
      "needs_background": "light"
     },
     "output_type": "display_data"
    }
   ],
   "source": [
    "# create bar plot to visualize the fractions\n",
    "\n",
    "labels = ['Male', 'Female']\n",
    "maleseed_fracs = [(seedM_recM/total_seedM), (seedM_recF/total_seedM)]\n",
    "femaleseed_fracs = [(seedF_recM/total_seedF), (seedF_recF/total_seedF)]\n",
    "\n",
    "x = np.arange(len(labels))  # the label locations\n",
    "width = 0.35  # the width of the bars\n",
    "\n",
    "fig, ax = plt.subplots()\n",
    "rects1 = ax.bar(x - width/2, maleseed_fracs, width, label='Recommended Male')\n",
    "rects2 = ax.bar(x + width/2, femaleseed_fracs, width, label='Recommended Female')\n",
    "\n",
    "ax.set_ylabel('Fraction of Recommendations')\n",
    "ax.set_xlabel('Seed Artist Gender')\n",
    "ax.set_xticks(x, labels)\n",
    "ax.legend()\n",
    "\n",
    "ax.bar_label(rects1, padding=0)\n",
    "ax.bar_label(rects2, padding=0)\n",
    "\n",
    "fig.tight_layout()\n",
    "\n",
    "plt.legend(bbox_to_anchor=(1.02, 1), loc='upper left', borderaxespad=0)\n",
    "\n",
    "plt.show()"
   ]
  },
  {
   "cell_type": "markdown",
   "metadata": {},
   "source": [
    "### Figures"
   ]
  },
  {
   "cell_type": "markdown",
   "metadata": {},
   "source": [
    "<img src=\"https://i.ibb.co/RPqWw8T/genderbias.jpg\" alt=\"genderbias\"  width=600>"
   ]
  },
  {
   "cell_type": "markdown",
   "metadata": {},
   "source": [
    "<center> Figure 1: Conditional Fractions for the Gender of Recommended and Seed Song Artists</center>"
   ]
  },
  {
   "cell_type": "markdown",
   "metadata": {},
   "source": [
    "<img src=\"https://i.ibb.co/pLgzRcy/stats2.jpg\" alt=\"stats2\" width=400>"
   ]
  },
  {
   "cell_type": "markdown",
   "metadata": {},
   "source": [
    "<center> Table 1: Part 1 of the statsmodel summary</center>"
   ]
  },
  {
   "cell_type": "markdown",
   "metadata": {},
   "source": [
    "<img src=\"https://i.ibb.co/QKdPQdr/stats.jpg\" alt=\"stats\" width=400>"
   ]
  },
  {
   "cell_type": "markdown",
   "metadata": {},
   "source": [
    "<center> Table 2: Part 2 of the results of the statsmodel summary </center>"
   ]
  },
  {
   "cell_type": "markdown",
   "metadata": {},
   "source": [
    "# 6 **Discussion**\n",
    "We can first observe the statsmodel summary of the ordinary least squares model. First, we can take a look at the R-squared value in Table 1 (located at the top right hand corner), which is 0.012, indicating that the model is a bad fit for the data. Next, we can also take a look at the confidence interval values for each of the features. Looking at the rightmost two columns in Table 2, we can see that all of these intervals inlcude 0. This indicates that it is very probable that the coefficient for each of the features are likely to be 0 in the linear regression model. As a result, none of features can be determined to be statistically significant in determining where in the order a song appears in a recommendation output from Spotify's algorithm.\n",
    "\n",
    "Because the results are statistically insignificant, we cannot make any definitive conclusions about Spotify's algorithm. However, as we consider the limitations of our dataset, we can say that at least for this sample of the first 20 recommendations of the algorithm, there is no bias existing that gives preference for one gender over another. This is further supported by what can be inferenced from the bar chart in Figure 1. From left to right, the bars represent the fraction of male artist recommended given a male seed artist, the fraction of female artists recommended given a male seed artist, the fraction of male artists recommended given a female artists, and the fraction of female artists recommended given a male artist. These can be interpreted as the probability of a recommended artist being a certain gender given the gender of the seed artist. \n",
    "\n",
    "All of the values are around 0.5, which indicates near equal probability for each gender being recommended given any gender for the artist of the seed song. Given the limitations in our data, more specifically the quantity, this result may be flawed, but gives unexpected hope that the algorithm puts forth artists of different genders equally when choosing recommendations. We can say that within the first 20 songs of the output of Spotify's recommendation algorithm, there exists no bias towards the gender of the artist. "
   ]
  },
  {
   "cell_type": "markdown",
   "metadata": {},
   "source": [
    "# 7 **Takeaway**\n",
    "Considering the results discussed from our analysis, we do not think any immediate actions should be taken as a result of our findings. From our results, we see that there is no factor amongst the features of the recommended songs that we compared that could be used as determining factors for the ranking of a song in the recommendation list. We found that there was no significant difference in the proportion that Spotify recommended male artists to the proportion that Spotify recommended female artists, when given that the seed song artist is male or female. Therefore, with our current results, accountability does not yet have to be taken.\n",
    "\n",
    "There were limitations and possibilities of error in the process of conducting our study, which may explain why we did not find much statistical significance in our results. One issue is the lack of manpower and therefore, the lack of ability to produce a larger dataset. Since Spotify's API did not store the gender of an artist, we had to manually label all of the artists’ gender, which was time consuming. As a result, we were only able to get a dataset of 2000 recommended songs. Another problem was that there might have been bias by created by using the API key of a personal Spotify account. \n",
    "\n",
    "In the case that gender bias may be identified in Spotify's recommendation algorithm, we would seek accountability from Spotify in the form of an explanation of the design of their recommendation algorithm, as well as the possibility of redesigning the algorithm in order to mitigate the harms of gender bias caused by it. \n"
   ]
  },
  {
   "cell_type": "code",
   "execution_count": null,
   "metadata": {},
   "outputs": [],
   "source": []
  }
 ],
 "metadata": {
  "colab": {
   "collapsed_sections": [],
   "name": "spotify_api_audit.ipynb",
   "provenance": []
  },
  "kernelspec": {
   "display_name": "Python 3",
   "language": "python",
   "name": "python3"
  },
  "language_info": {
   "codemirror_mode": {
    "name": "ipython",
    "version": 3
   },
   "file_extension": ".py",
   "mimetype": "text/x-python",
   "name": "python",
   "nbconvert_exporter": "python",
   "pygments_lexer": "ipython3",
   "version": "3.8.8"
  }
 },
 "nbformat": 4,
 "nbformat_minor": 1
}
